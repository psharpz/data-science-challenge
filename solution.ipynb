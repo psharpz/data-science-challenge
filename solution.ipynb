{
 "cells": [
  {
   "cell_type": "markdown",
   "id": "e9f2ca81-71d7-4ade-af57-daeb557500f8",
   "metadata": {},
   "source": [
    "# Technical challenge\n",
    "\n",
    "You are given a dataset (assets/dataset.zip) containing information about restaurants all over\n",
    "Europe. The goal of the challenge is to make sense of the dataset and understand it in such a\n",
    "way that informed, data-based business decisions can be made. To make things easier, the\n",
    "challenge is split into three conceptually independent parts, with action points at each part."
   ]
  },
  {
   "cell_type": "markdown",
   "id": "5d19516e-3f3c-4969-bd0d-d1f01d0c66e6",
   "metadata": {},
   "source": [
    "### Imports"
   ]
  },
  {
   "cell_type": "code",
   "execution_count": 21,
   "id": "33f159b9-e26f-4cbc-82ce-158563ec1a1b",
   "metadata": {},
   "outputs": [],
   "source": [
    "import pandas as pd\n",
    "import numpy as np\n",
    "import matplotlib.pyplot as plt\n",
    "import seaborn as sns\n",
    "from collections import defaultdict"
   ]
  },
  {
   "cell_type": "markdown",
   "id": "8d37cc94-8c39-4d66-9f4f-fbc0b3424a09",
   "metadata": {},
   "source": [
    "### Reading in the data"
   ]
  },
  {
   "cell_type": "code",
   "execution_count": 22,
   "id": "c2a07b21-c980-4d59-a80f-baa097f7ea18",
   "metadata": {},
   "outputs": [
    {
     "name": "stderr",
     "output_type": "stream",
     "text": [
      "C:\\Users\\junai\\AppData\\Local\\Temp\\ipykernel_7044\\112859877.py:1: DtypeWarning: Columns (4) have mixed types. Specify dtype option on import or set low_memory=False.\n",
      "  df = pd.read_csv('dataset.csv')\n"
     ]
    }
   ],
   "source": [
    "df = pd.read_csv('dataset.csv')"
   ]
  },
  {
   "cell_type": "markdown",
   "id": "cff2e9ca-89c8-4fa2-8777-f2ec47886f35",
   "metadata": {},
   "source": [
    "# Data cleaning"
   ]
  },
  {
   "cell_type": "markdown",
   "id": "d7d4507c-7907-47a5-adb9-1e4ea724071b",
   "metadata": {},
   "source": [
    "## 1. Identify the columns with mixed data types."
   ]
  },
  {
   "cell_type": "markdown",
   "id": "4e7b3af0-368f-4671-87f6-617724870548",
   "metadata": {},
   "source": [
    "### Code"
   ]
  },
  {
   "cell_type": "code",
   "execution_count": 23,
   "id": "b88b1c7e-9249-4945-9656-49b371011f28",
   "metadata": {},
   "outputs": [
    {
     "name": "stdout",
     "output_type": "stream",
     "text": [
      "# Column Name:   Types\n",
      "1 region: {nan, <class 'str'>}\n",
      "2 province: {nan, <class 'str'>}\n",
      "3 city: {nan, <class 'str'>}\n",
      "4 latitude: {nan, <class 'float'>}\n",
      "5 longitude: {nan, <class 'float'>}\n",
      "6 claimed: {nan, <class 'str'>}\n",
      "7 awards: {nan, <class 'str'>}\n",
      "8 popularity_detailed: {nan, <class 'str'>}\n",
      "9 popularity_generic: {nan, <class 'str'>}\n",
      "10 top_tags: {nan, <class 'str'>}\n",
      "11 price_level: {nan, <class 'str'>}\n",
      "12 price_range: {nan, <class 'str'>}\n",
      "13 meals: {nan, <class 'str'>}\n",
      "14 cuisines: {nan, <class 'str'>}\n",
      "15 special_diets: {nan, <class 'str'>}\n",
      "16 features: {nan, <class 'str'>}\n",
      "17 original_open_hours: {nan, <class 'str'>}\n",
      "18 open_days_per_week: {nan, <class 'float'>}\n",
      "19 open_hours_per_week: {nan, <class 'float'>}\n",
      "20 working_shifts_per_week: {nan, <class 'float'>}\n",
      "21 avg_rating: {nan, <class 'float'>}\n",
      "22 total_reviews_count: {nan, <class 'float'>}\n",
      "23 default_language: {nan, <class 'str'>}\n",
      "24 reviews_count_in_default_language: {nan, <class 'float'>}\n",
      "25 excellent: {nan, <class 'float'>}\n",
      "26 very_good: {nan, <class 'float'>}\n",
      "27 average: {nan, <class 'float'>}\n",
      "28 poor: {nan, <class 'float'>}\n",
      "29 terrible: {nan, <class 'float'>}\n",
      "30 food: {nan, <class 'float'>}\n",
      "31 service: {nan, <class 'float'>}\n",
      "32 value: {nan, <class 'float'>}\n",
      "33 atmosphere: {nan, <class 'float'>}\n",
      "34 keywords: {nan, <class 'str'>}\n"
     ]
    }
   ],
   "source": [
    "def get_types(col):\n",
    "    \"\"\"returns the set of types in a column\"\"\"\n",
    "    types = set()\n",
    "    for val in df[col]:\n",
    "        \n",
    "        if pd.isna(val):\n",
    "            types.add(np.nan)\n",
    "        else:\n",
    "            types.add(type(val))\n",
    "        \n",
    "    return types\n",
    "        \n",
    "    \n",
    "column_count = 1\n",
    "print('# Column Name:   Types')\n",
    "for col in df.columns:\n",
    "    types = get_types(col)\n",
    "    if len(types)>1:\n",
    "        print(f'{column_count} {col}: {types}')\n",
    "        column_count += 1\n",
    "        "
   ]
  },
  {
   "cell_type": "markdown",
   "id": "fae490c1-fcfe-49e2-a0be-872ac0dfa9fc",
   "metadata": {},
   "source": [
    "### Answer\n",
    "#### there are 34 columns with mixed data types, they are either nan and str or nan and float"
   ]
  },
  {
   "cell_type": "markdown",
   "id": "aa267c52-db84-463c-9c66-4fa41cace293",
   "metadata": {},
   "source": [
    "### 2. For each column, count the number of rows per data type"
   ]
  },
  {
   "cell_type": "code",
   "execution_count": 24,
   "id": "6bf4f5ca-b48b-472c-9d93-8f7b6e6da0e9",
   "metadata": {},
   "outputs": [
    {
     "name": "stdout",
     "output_type": "stream",
     "text": [
      "# Column Name:   Types: count\n",
      "1 restaurant_link:   <class 'str'> (1083397)  \n",
      "2 restaurant_name:   <class 'str'> (1083397)  \n",
      "3 original_location:   <class 'str'> (1083397)  \n",
      "4 country:   <class 'str'> (1083397)  \n",
      "5 region:   <class 'str'> (1033074)  nan (50323)  \n",
      "6 province:   <class 'str'> (742765)  nan (340632)  \n",
      "7 city:   <class 'str'> (682712)  nan (400685)  \n",
      "8 address:   <class 'str'> (1083397)  \n",
      "9 latitude:   <class 'float'> (1067607)  nan (15790)  \n",
      "10 longitude:   <class 'float'> (1067607)  nan (15790)  \n",
      "11 claimed:   <class 'str'> (1081555)  nan (1842)  \n",
      "12 awards:   nan (820264)  <class 'str'> (263133)  \n",
      "13 popularity_detailed:   <class 'str'> (988409)  nan (94988)  \n",
      "14 popularity_generic:   <class 'str'> (985605)  nan (97792)  \n",
      "15 top_tags:   <class 'str'> (972763)  nan (110634)  \n",
      "16 price_level:   <class 'str'> (806192)  nan (277205)  \n",
      "17 price_range:   nan (779070)  <class 'str'> (304327)  \n",
      "18 meals:   <class 'str'> (635347)  nan (448050)  \n",
      "19 cuisines:   <class 'str'> (914294)  nan (169103)  \n",
      "20 special_diets:   nan (743141)  <class 'str'> (340256)  \n",
      "21 features:   <class 'str'> (317407)  nan (765990)  \n",
      "22 vegetarian_friendly:   <class 'str'> (1083397)  \n",
      "23 vegan_options:   <class 'str'> (1083397)  \n",
      "24 gluten_free:   <class 'str'> (1083397)  \n",
      "25 original_open_hours:   nan (489565)  <class 'str'> (593832)  \n",
      "26 open_days_per_week:   nan (489565)  <class 'float'> (593832)  \n",
      "27 open_hours_per_week:   nan (489565)  <class 'float'> (593832)  \n",
      "28 working_shifts_per_week:   nan (489565)  <class 'float'> (593832)  \n",
      "29 avg_rating:   <class 'float'> (986761)  nan (96636)  \n",
      "30 total_reviews_count:   <class 'float'> (1031162)  nan (52235)  \n",
      "31 default_language:   <class 'str'> (988204)  nan (95193)  \n",
      "32 reviews_count_in_default_language:   <class 'float'> (988204)  nan (95193)  \n",
      "33 excellent:   <class 'float'> (988204)  nan (95193)  \n",
      "34 very_good:   <class 'float'> (988204)  nan (95193)  \n",
      "35 average:   <class 'float'> (988204)  nan (95193)  \n",
      "36 poor:   <class 'float'> (988204)  nan (95193)  \n",
      "37 terrible:   <class 'float'> (988204)  nan (95193)  \n",
      "38 food:   <class 'float'> (599325)  nan (484072)  \n",
      "39 service:   <class 'float'> (604287)  nan (479110)  \n",
      "40 value:   <class 'float'> (602692)  nan (480705)  \n",
      "41 atmosphere:   nan (821612)  <class 'float'> (261785)  \n",
      "42 keywords:   nan (984199)  <class 'str'> (99198)  \n"
     ]
    }
   ],
   "source": [
    "def values_per_type(col):\n",
    "    \"\"\"takes column name as input and returns the dictionary with type as key and number of values and value\"\"\"\n",
    "    value_counts = defaultdict(lambda : 0)\n",
    "    for val in df[col]:\n",
    "        if pd.isna(val):\n",
    "            value_counts[np.nan] += 1\n",
    "        else:\n",
    "            value_counts[str(type(val))] += 1\n",
    "        \n",
    "    return value_counts\n",
    "    \n",
    "    \n",
    "# showing results\n",
    "column_count = 1\n",
    "print('# Column Name:   Types: (count)')\n",
    "for col in df.columns:\n",
    "    value_counts = values_per_type(col)\n",
    "    print(f'{column_count} {col}:   ', end='')\n",
    "    for key, val in value_counts.items():\n",
    "        print(f'{key} ({val})', end='')\n",
    "        print('  ', end='')\n",
    "        \n",
    "    print()\n",
    "    column_count += 1"
   ]
  },
  {
   "cell_type": "markdown",
   "id": "355aba23-1e7b-4f80-a8db-db4af9e13ccc",
   "metadata": {},
   "source": [
    "### 3. Would removing missing values solve the mixed data type problem?"
   ]
  },
  {
   "cell_type": "markdown",
   "id": "f633adad-c284-4ce8-8049-0ba2a9c08193",
   "metadata": {},
   "source": [
    "### Code"
   ]
  },
  {
   "cell_type": "code",
   "execution_count": 25,
   "id": "acef7c1d-5c7e-4120-8b7d-80d734eb7427",
   "metadata": {},
   "outputs": [],
   "source": [
    "df.dropna().to_csv('no_missing_values.csv')\n",
    "no_missing_value = pd.read_csv('no_missing_values.csv')"
   ]
  },
  {
   "cell_type": "code",
   "execution_count": 29,
   "id": "3afff3a7-883f-4407-bae1-7a99acd252c4",
   "metadata": {},
   "outputs": [
    {
     "name": "stdout",
     "output_type": "stream",
     "text": [
      "Number of rows before deleting NaN values: 1083397\n",
      "Number of rows after deleting NaN values: 2177\n"
     ]
    }
   ],
   "source": [
    "print(f'Number of rows before deleting NaN values: {len(df)}')\n",
    "print(f'Number of rows after deleting NaN values: {len(no_missing_value)}')"
   ]
  },
  {
   "cell_type": "markdown",
   "id": "f14e3be0-1889-4899-99ad-998823bbdd59",
   "metadata": {
    "tags": []
   },
   "source": [
    "### Answer\n",
    "#### Yes, after calling dropna() method pandas does not throw mix data type warning, however it deletes 99% of the data"
   ]
  },
  {
   "cell_type": "markdown",
   "id": "28d13388-675c-46e9-99f1-da8598f0f4bf",
   "metadata": {},
   "source": [
    "## Data understanding"
   ]
  },
  {
   "cell_type": "markdown",
   "id": "c7e76e58-9256-43d8-a7c3-ab9ce6d1bf6e",
   "metadata": {},
   "source": [
    "### 1. Are the review columns correlated with the rating columns?"
   ]
  },
  {
   "cell_type": "markdown",
   "id": "22987378-0202-489c-b752-887a8d4db3ba",
   "metadata": {},
   "source": [
    "### Code"
   ]
  },
  {
   "cell_type": "code",
   "execution_count": 30,
   "id": "b5812e7d-81bf-431e-886f-cd88f7fc65e4",
   "metadata": {},
   "outputs": [],
   "source": [
    "# column names for review and rating columns\n",
    "review_and_rating_columns = [\"excellent\", \"very_good\", \"average\", \"poor\", \"terrible\", \"total_reviews_count\", \"reviews_count_in_default_language\", \n",
    "\"food\", \"service\", \"value\", \"atmosphere\", \"avg_rating\"]\n",
    "\n",
    "# setting missing values to 0 to all review and rating columns\n",
    "default_value = {col:0 for col in review_and_rating_columns}\n",
    "df.fillna(default_value, inplace=True)"
   ]
  },
  {
   "cell_type": "markdown",
   "id": "55fa0c92-9876-4b60-8bb4-83bfd8e7a7cf",
   "metadata": {},
   "source": [
    "### Creating a heatmap for correlation table"
   ]
  },
  {
   "cell_type": "code",
   "execution_count": 31,
   "id": "a8bc9b1d-3343-4245-a1fe-a52bd3050828",
   "metadata": {},
   "outputs": [
    {
     "data": {
      "text/plain": [
       "<AxesSubplot:>"
      ]
     },
     "execution_count": 31,
     "metadata": {},
     "output_type": "execute_result"
    },
    {
     "data": {
      "image/png": "[encoded data removed]",
      "text/plain": [
       "<Figure size 1000x600 with 2 Axes>"
      ]
     },
     "metadata": {
      "needs_background": "light"
     },
     "output_type": "display_data"
    }
   ],
   "source": [
    "# creating correlation table for review and rating columns\n",
    "correlation_table = df[review_and_rating_columns].corr()\n",
    "\n",
    "# creating a heatmap for correlation table\n",
    "plt.figure(figsize=(10,6), dpi=100)\n",
    "sns.heatmap(correlation_table, cmap='coolwarm', linecolor='white', linewidths=2)"
   ]
  },
  {
   "cell_type": "markdown",
   "id": "fd909b86-5514-48ad-8df3-283d3a013154",
   "metadata": {},
   "source": [
    "### Answer\n",
    "#### From the looks of heatmap above, it doesn't look like that there is any correlation between review and rating columns"
   ]
  },
  {
   "cell_type": "code",
   "execution_count": null,
   "id": "a46acbec-1e76-4438-8032-e46ed742374c",
   "metadata": {},
   "outputs": [],
   "source": []
  },
  {
   "cell_type": "markdown",
   "id": "86609259-0f50-48e0-bf10-4c7c5de9fae0",
   "metadata": {},
   "source": [
    "### 2. Are vegetarian-friendly restaurants better than non-vegetarian ones?"
   ]
  },
  {
   "cell_type": "markdown",
   "id": "b5ddab35-066c-4d3a-b9ab-302253db1b23",
   "metadata": {},
   "source": [
    "### Code"
   ]
  },
  {
   "cell_type": "code",
   "execution_count": 32,
   "id": "b70da6f6-1765-4075-8ebc-100a7cfcd6d7",
   "metadata": {},
   "outputs": [
    {
     "name": "stdout",
     "output_type": "stream",
     "text": [
      "vegetarian friendly restaurants average rating: 4.17\n",
      "non-vegetarian friendly restaurants average rating: 3.47\n"
     ]
    }
   ],
   "source": [
    "# calculating average rating for vagetarian friendly and non vegetarian restaurants\n",
    "vegetarian_friendly_avg_rating = df[df['vegetarian_friendly']=='Y']['avg_rating'].mean()\n",
    "non_vegetarian_friendly_avg_rating = df[df['vegetarian_friendly']=='N']['avg_rating'].mean()\n",
    "\n",
    "print(f'vegetarian friendly restaurants average rating: {round(vegetarian_friendly_avg_rating, 2)}')\n",
    "print(f'non-vegetarian friendly restaurants average rating: {round(non_vegetarian_friendly_avg_rating, 2)}')"
   ]
  },
  {
   "cell_type": "markdown",
   "id": "0ce6398e-3258-4996-9ee1-56b59ee8ce4d",
   "metadata": {},
   "source": [
    "### Answer\n",
    "#### It looks like vegetarian friendly restaurants have better average ratings than non-vegatarian ones"
   ]
  },
  {
   "cell_type": "code",
   "execution_count": null,
   "id": "674c3f65-bcce-46d6-928c-a0d75d3b9cde",
   "metadata": {},
   "outputs": [],
   "source": []
  },
  {
   "cell_type": "markdown",
   "id": "5c365658-f18a-465e-b7e2-fe7dfcb36e77",
   "metadata": {},
   "source": [
    "## 3. Are there any significantly more expensive cuisines?"
   ]
  },
  {
   "cell_type": "markdown",
   "id": "052c954c-1af6-4943-b0ee-c75ac4c1bdac",
   "metadata": {},
   "source": [
    "### Code"
   ]
  },
  {
   "cell_type": "code",
   "execution_count": 36,
   "id": "72c98edc-9340-408c-89c1-62cabbe83b75",
   "metadata": {},
   "outputs": [
    {
     "data": {
      "text/html": [
       "<div>\n",
       "<style scoped>\n",
       "    .dataframe tbody tr th:only-of-type {\n",
       "        vertical-align: middle;\n",
       "    }\n",
       "\n",
       "    .dataframe tbody tr th {\n",
       "        vertical-align: top;\n",
       "    }\n",
       "\n",
       "    .dataframe thead th {\n",
       "        text-align: right;\n",
       "    }\n",
       "</style>\n",
       "<table border=\"1\" class=\"dataframe\">\n",
       "  <thead>\n",
       "    <tr style=\"text-align: right;\">\n",
       "      <th></th>\n",
       "      <th>price_range</th>\n",
       "      <th>cuisines</th>\n",
       "      <th>max_price</th>\n",
       "    </tr>\n",
       "  </thead>\n",
       "  <tbody>\n",
       "    <tr>\n",
       "      <th>664879</th>\n",
       "      <td>€82,794,888-€745,153,984</td>\n",
       "      <td>Italian, Barbecue</td>\n",
       "      <td>745153984</td>\n",
       "    </tr>\n",
       "    <tr>\n",
       "      <th>399853</th>\n",
       "      <td>€166,390,048-€665,560,192</td>\n",
       "      <td>Spanish</td>\n",
       "      <td>665560192</td>\n",
       "    </tr>\n",
       "    <tr>\n",
       "      <th>607006</th>\n",
       "      <td>€7-€142,504,064</td>\n",
       "      <td>Italian</td>\n",
       "      <td>142504064</td>\n",
       "    </tr>\n",
       "    <tr>\n",
       "      <th>678891</th>\n",
       "      <td>€12-€123,456,792</td>\n",
       "      <td>NaN</td>\n",
       "      <td>123456792</td>\n",
       "    </tr>\n",
       "    <tr>\n",
       "      <th>360797</th>\n",
       "      <td>€30-€100,000,000</td>\n",
       "      <td>Seafood, Mediterranean, European, Spanish</td>\n",
       "      <td>100000000</td>\n",
       "    </tr>\n",
       "    <tr>\n",
       "      <th>652072</th>\n",
       "      <td>€4,400,000-€100,000,000</td>\n",
       "      <td>Barbecue, European, Asian, Middle Eastern, Alb...</td>\n",
       "      <td>100000000</td>\n",
       "    </tr>\n",
       "    <tr>\n",
       "      <th>764037</th>\n",
       "      <td>€60-€100,000,000</td>\n",
       "      <td>Italian, Mediterranean, Tuscan</td>\n",
       "      <td>100000000</td>\n",
       "    </tr>\n",
       "    <tr>\n",
       "      <th>477586</th>\n",
       "      <td>€10-€100,000,000</td>\n",
       "      <td>Indian, Asian</td>\n",
       "      <td>100000000</td>\n",
       "    </tr>\n",
       "    <tr>\n",
       "      <th>789112</th>\n",
       "      <td>€92,541,544-€92,541,544</td>\n",
       "      <td>Bar, Seafood, Mediterranean, Pub, Southern-Ita...</td>\n",
       "      <td>92541544</td>\n",
       "    </tr>\n",
       "    <tr>\n",
       "      <th>323722</th>\n",
       "      <td>€2-€82,794,888</td>\n",
       "      <td>Mediterranean</td>\n",
       "      <td>82794888</td>\n",
       "    </tr>\n",
       "    <tr>\n",
       "      <th>1076755</th>\n",
       "      <td>€6-€20,295,888</td>\n",
       "      <td>Mediterranean</td>\n",
       "      <td>20295888</td>\n",
       "    </tr>\n",
       "    <tr>\n",
       "      <th>795356</th>\n",
       "      <td>€10-€10,000,000</td>\n",
       "      <td>Italian, Bar, Barbecue, Pub, Fast food</td>\n",
       "      <td>10000000</td>\n",
       "    </tr>\n",
       "    <tr>\n",
       "      <th>53142</th>\n",
       "      <td>€4-€10,000,000</td>\n",
       "      <td>Brew Pub, Bar, Dining bars</td>\n",
       "      <td>10000000</td>\n",
       "    </tr>\n",
       "    <tr>\n",
       "      <th>768630</th>\n",
       "      <td>€18-€10,000,000</td>\n",
       "      <td>Chinese, Japanese, Sushi, Asian, Japanese Fusion</td>\n",
       "      <td>10000000</td>\n",
       "    </tr>\n",
       "    <tr>\n",
       "      <th>38880</th>\n",
       "      <td>€2-€9,999,999</td>\n",
       "      <td>Japanese, Asian, Sushi</td>\n",
       "      <td>9999999</td>\n",
       "    </tr>\n",
       "    <tr>\n",
       "      <th>801070</th>\n",
       "      <td>€15-€9,999,999</td>\n",
       "      <td>Italian, Seafood, Mediterranean, Ligurian, Nor...</td>\n",
       "      <td>9999999</td>\n",
       "    </tr>\n",
       "    <tr>\n",
       "      <th>661731</th>\n",
       "      <td>€3-€9,999,999</td>\n",
       "      <td>Cafe, Italian</td>\n",
       "      <td>9999999</td>\n",
       "    </tr>\n",
       "    <tr>\n",
       "      <th>369815</th>\n",
       "      <td>€6-€9,999,999</td>\n",
       "      <td>Spanish</td>\n",
       "      <td>9999999</td>\n",
       "    </tr>\n",
       "    <tr>\n",
       "      <th>539990</th>\n",
       "      <td>€61,188-€6,847,366</td>\n",
       "      <td>NaN</td>\n",
       "      <td>6847366</td>\n",
       "    </tr>\n",
       "    <tr>\n",
       "      <th>429942</th>\n",
       "      <td>€68,344-€6,834,414</td>\n",
       "      <td>NaN</td>\n",
       "      <td>6834414</td>\n",
       "    </tr>\n",
       "  </tbody>\n",
       "</table>\n",
       "</div>"
      ],
      "text/plain": [
       "                       price_range  \\\n",
       "664879    €82,794,888-€745,153,984   \n",
       "399853   €166,390,048-€665,560,192   \n",
       "607006             €7-€142,504,064   \n",
       "678891            €12-€123,456,792   \n",
       "360797            €30-€100,000,000   \n",
       "652072     €4,400,000-€100,000,000   \n",
       "764037            €60-€100,000,000   \n",
       "477586            €10-€100,000,000   \n",
       "789112     €92,541,544-€92,541,544   \n",
       "323722              €2-€82,794,888   \n",
       "1076755             €6-€20,295,888   \n",
       "795356             €10-€10,000,000   \n",
       "53142               €4-€10,000,000   \n",
       "768630             €18-€10,000,000   \n",
       "38880                €2-€9,999,999   \n",
       "801070              €15-€9,999,999   \n",
       "661731               €3-€9,999,999   \n",
       "369815               €6-€9,999,999   \n",
       "539990          €61,188-€6,847,366   \n",
       "429942          €68,344-€6,834,414   \n",
       "\n",
       "                                                  cuisines  max_price  \n",
       "664879                                   Italian, Barbecue  745153984  \n",
       "399853                                             Spanish  665560192  \n",
       "607006                                             Italian  142504064  \n",
       "678891                                                 NaN  123456792  \n",
       "360797           Seafood, Mediterranean, European, Spanish  100000000  \n",
       "652072   Barbecue, European, Asian, Middle Eastern, Alb...  100000000  \n",
       "764037                      Italian, Mediterranean, Tuscan  100000000  \n",
       "477586                                       Indian, Asian  100000000  \n",
       "789112   Bar, Seafood, Mediterranean, Pub, Southern-Ita...   92541544  \n",
       "323722                                       Mediterranean   82794888  \n",
       "1076755                                      Mediterranean   20295888  \n",
       "795356              Italian, Bar, Barbecue, Pub, Fast food   10000000  \n",
       "53142                           Brew Pub, Bar, Dining bars   10000000  \n",
       "768630    Chinese, Japanese, Sushi, Asian, Japanese Fusion   10000000  \n",
       "38880                               Japanese, Asian, Sushi    9999999  \n",
       "801070   Italian, Seafood, Mediterranean, Ligurian, Nor...    9999999  \n",
       "661731                                       Cafe, Italian    9999999  \n",
       "369815                                             Spanish    9999999  \n",
       "539990                                                 NaN    6847366  \n",
       "429942                                                 NaN    6834414  "
      ]
     },
     "execution_count": 36,
     "metadata": {},
     "output_type": "execute_result"
    }
   ],
   "source": [
    "def parse_price(price_range):\n",
    "    high_value = price_range.split('-')[1]\n",
    "    if 'CHF' in high_value:\n",
    "        high_value = high_value[4:]\n",
    "    else:\n",
    "        high_value = high_value[1:]\n",
    "        \n",
    "    return int(high_value.replace(',', ''))\n",
    "\n",
    "# creating a dataframe for cuisines and price_range\n",
    "cuisines_price_df = df[df['price_range'].notna()][['price_range', 'cuisines']]\n",
    "\n",
    "# creating a max_price column\n",
    "cuisines_price_df['max_price'] = cuisines_price_df['price_range'].apply(parse_price)\n",
    "\n",
    "# displaying the cuisines_price dataframe by sorting the dataframe by max_price in descending order\n",
    "cuisines_price_df.sort_values(by='max_price', ascending=False)[0:20]"
   ]
  },
  {
   "cell_type": "markdown",
   "id": "d91fc488-0ca1-44af-8cbc-423a6e60ec14",
   "metadata": {},
   "source": [
    "### Answer\n",
    "#### Above is a dataframe of cuisines sorted by max_price in descending order and it shows that the cuisines with highest price are: Italian, Barbecue, Spanish, Seafood, Mediterranean, European, Brew Pub, Bar, Dining bars, Chinese, Japanese, Sushi, Asian, Japanese Fusion\t\t"
   ]
  },
  {
   "cell_type": "code",
   "execution_count": null,
   "id": "7c942a80-a53d-4a51-be8f-ef69f7812805",
   "metadata": {},
   "outputs": [],
   "source": []
  },
  {
   "cell_type": "markdown",
   "id": "602ed79a-695a-4ae3-b499-8c205a2d45f0",
   "metadata": {},
   "source": [
    "## Business-specific"
   ]
  },
  {
   "cell_type": "markdown",
   "id": "a7e7438e-3d01-4d90-9a36-4c00d2edb115",
   "metadata": {},
   "source": [
    "### A gluten-free restaurant wants to open a new restaurant in a European capital where gluten-free restaurants are underrepresented. Assuming there are no other factors, except population and gluten-free restaurant density, what would be the top 5 capitals to open that restaurant?"
   ]
  },
  {
   "cell_type": "markdown",
   "id": "1877e1da-d966-4153-974a-c5e517148c1f",
   "metadata": {},
   "source": [
    "### Code"
   ]
  },
  {
   "cell_type": "code",
   "execution_count": 37,
   "id": "ba9c7d41-62a4-400f-ae39-ccaf3dab9416",
   "metadata": {},
   "outputs": [
    {
     "data": {
      "text/html": [
       "<div>\n",
       "<style scoped>\n",
       "    .dataframe tbody tr th:only-of-type {\n",
       "        vertical-align: middle;\n",
       "    }\n",
       "\n",
       "    .dataframe tbody tr th {\n",
       "        vertical-align: top;\n",
       "    }\n",
       "\n",
       "    .dataframe thead th {\n",
       "        text-align: right;\n",
       "    }\n",
       "</style>\n",
       "<table border=\"1\" class=\"dataframe\">\n",
       "  <thead>\n",
       "    <tr style=\"text-align: right;\">\n",
       "      <th></th>\n",
       "      <th>City</th>\n",
       "      <th>Country</th>\n",
       "      <th>Population</th>\n",
       "      <th>Area in km2</th>\n",
       "    </tr>\n",
       "    <tr>\n",
       "      <th>CityNo</th>\n",
       "      <th></th>\n",
       "      <th></th>\n",
       "      <th></th>\n",
       "      <th></th>\n",
       "    </tr>\n",
       "  </thead>\n",
       "  <tbody>\n",
       "    <tr>\n",
       "      <th>1</th>\n",
       "      <td>Amsterdam</td>\n",
       "      <td>Netherland</td>\n",
       "      <td>851573</td>\n",
       "      <td>219,32</td>\n",
       "    </tr>\n",
       "    <tr>\n",
       "      <th>2</th>\n",
       "      <td>Athens</td>\n",
       "      <td>Greece</td>\n",
       "      <td>664046</td>\n",
       "      <td>2929</td>\n",
       "    </tr>\n",
       "    <tr>\n",
       "      <th>4</th>\n",
       "      <td>Barcelona</td>\n",
       "      <td>Spain</td>\n",
       "      <td>1620809</td>\n",
       "      <td>101,4</td>\n",
       "    </tr>\n",
       "    <tr>\n",
       "      <th>4</th>\n",
       "      <td>Berlin</td>\n",
       "      <td>Germany</td>\n",
       "      <td>3711930</td>\n",
       "      <td>891,7</td>\n",
       "    </tr>\n",
       "    <tr>\n",
       "      <th>5</th>\n",
       "      <td>Bratislava</td>\n",
       "      <td>Slovakia</td>\n",
       "      <td>424428</td>\n",
       "      <td>367,6</td>\n",
       "    </tr>\n",
       "  </tbody>\n",
       "</table>\n",
       "</div>"
      ],
      "text/plain": [
       "              City     Country  Population Area in km2 \n",
       "CityNo                                                 \n",
       "1        Amsterdam  Netherland      851573       219,32\n",
       "2           Athens      Greece      664046         2929\n",
       "4        Barcelona       Spain     1620809        101,4\n",
       "4           Berlin     Germany     3711930        891,7\n",
       "5       Bratislava    Slovakia      424428        367,6"
      ]
     },
     "execution_count": 37,
     "metadata": {},
     "output_type": "execute_result"
    }
   ],
   "source": [
    "# reading europe_capitals_population_and_area.csv file \n",
    "europe_capitals = pd.read_csv('europe_capitals_population_and_area.csv', sep=';', index_col='CityNo')\n",
    "europe_capitals.head()"
   ]
  },
  {
   "cell_type": "code",
   "execution_count": 38,
   "id": "92a21115-4540-4812-8d5f-1a75466651e1",
   "metadata": {},
   "outputs": [],
   "source": [
    "# creating a dictionary to hold key for capital name and value for count of gluten_free restaurants\n",
    "# initially all values are set to 0\n",
    "gluten_free_count = {capital:0 for capital in europe_capitals['City'].unique()}\n",
    "\n",
    "#  now iterating the dataframe and counting gluten_free restaurants for each capital\n",
    "for i, row in df.iterrows():\n",
    "    city_name = row['city']\n",
    "    if city_name in df2['City'].unique() and row['gluten_free'] == 'Y':\n",
    "        gluten_free_count[city_name] += 1"
   ]
  },
  {
   "cell_type": "code",
   "execution_count": 8,
   "id": "bc5149c8-3af2-4857-b629-ff9fa317cab5",
   "metadata": {},
   "outputs": [
    {
     "data": {
      "text/plain": [
       "{'Amsterdam': 622,\n",
       " 'Athens': 271,\n",
       " 'Barcelona': 0,\n",
       " 'Berlin': 0,\n",
       " 'Bratislava': 67,\n",
       " 'Brussels': 0,\n",
       " 'Budapest': 433,\n",
       " 'Copenhagen': 251,\n",
       " 'Dublin': 596,\n",
       " 'Edinburgh': 0,\n",
       " 'Geneva': 0,\n",
       " 'Hamburg': 0,\n",
       " 'Helsinki': 199,\n",
       " 'Krakow': 0,\n",
       " 'Lisbon': 537,\n",
       " 'Ljubljana': 0,\n",
       " 'London': 0,\n",
       " 'Luxembourg': 0,\n",
       " 'Lyon': 54,\n",
       " 'Madrid': 1368,\n",
       " 'Milan': 1154,\n",
       " 'Munich': 256,\n",
       " 'Oporto': 0,\n",
       " 'Oslo': 0,\n",
       " 'Paris': 582,\n",
       " 'Prague': 389,\n",
       " 'Rome': 1654,\n",
       " 'Stockholm': 366,\n",
       " 'Vienna': 413,\n",
       " 'Warsaw': 0,\n",
       " 'Zurich': 0}"
      ]
     },
     "execution_count": 8,
     "metadata": {},
     "output_type": "execute_result"
    }
   ],
   "source": [
    "gluten_free_count"
   ]
  },
  {
   "cell_type": "code",
   "execution_count": 39,
   "id": "67df7179-5e82-497b-9cca-1b75c5fd3d82",
   "metadata": {},
   "outputs": [],
   "source": [
    "# adding a new column to hold count of gluten_free restaurants for each capital using gluten_free_count created above\n",
    "europe_capitals['gluten_free_restaurants'] = europe_capitals['City'].apply(lambda x: gluten_free_count[x])"
   ]
  },
  {
   "cell_type": "code",
   "execution_count": 41,
   "id": "4fb2500c-b149-4f3c-aa8a-c96f6cc5186d",
   "metadata": {},
   "outputs": [],
   "source": [
    "# parse area column: replace , with . and convert to float\n",
    "europe_capitals['Area in km2 '] = europe_capitals['Area in km2 '].apply(lambda x: float(x.replace(',', '.')))"
   ]
  },
  {
   "cell_type": "code",
   "execution_count": 44,
   "id": "b3cb2895-ffb9-43f9-90f6-e919c42e75f0",
   "metadata": {},
   "outputs": [
    {
     "data": {
      "text/html": [
       "<div>\n",
       "<style scoped>\n",
       "    .dataframe tbody tr th:only-of-type {\n",
       "        vertical-align: middle;\n",
       "    }\n",
       "\n",
       "    .dataframe tbody tr th {\n",
       "        vertical-align: top;\n",
       "    }\n",
       "\n",
       "    .dataframe thead th {\n",
       "        text-align: right;\n",
       "    }\n",
       "</style>\n",
       "<table border=\"1\" class=\"dataframe\">\n",
       "  <thead>\n",
       "    <tr style=\"text-align: right;\">\n",
       "      <th></th>\n",
       "      <th>City</th>\n",
       "      <th>Country</th>\n",
       "      <th>Population</th>\n",
       "      <th>Area in km2</th>\n",
       "      <th>gluten_free_restaurants</th>\n",
       "    </tr>\n",
       "    <tr>\n",
       "      <th>CityNo</th>\n",
       "      <th></th>\n",
       "      <th></th>\n",
       "      <th></th>\n",
       "      <th></th>\n",
       "      <th></th>\n",
       "    </tr>\n",
       "  </thead>\n",
       "  <tbody>\n",
       "    <tr>\n",
       "      <th>2</th>\n",
       "      <td>Athens</td>\n",
       "      <td>Greece</td>\n",
       "      <td>664046</td>\n",
       "      <td>2929.0</td>\n",
       "      <td>271</td>\n",
       "    </tr>\n",
       "    <tr>\n",
       "      <th>18</th>\n",
       "      <td>Luxembourg</td>\n",
       "      <td>Luxembourg</td>\n",
       "      <td>590667</td>\n",
       "      <td>2586.4</td>\n",
       "      <td>0</td>\n",
       "    </tr>\n",
       "    <tr>\n",
       "      <th>27</th>\n",
       "      <td>Rome</td>\n",
       "      <td>Italy</td>\n",
       "      <td>2868782</td>\n",
       "      <td>1285.0</td>\n",
       "      <td>1654</td>\n",
       "    </tr>\n",
       "    <tr>\n",
       "      <th>4</th>\n",
       "      <td>Berlin</td>\n",
       "      <td>Germany</td>\n",
       "      <td>3711930</td>\n",
       "      <td>891.7</td>\n",
       "      <td>0</td>\n",
       "    </tr>\n",
       "    <tr>\n",
       "      <th>12</th>\n",
       "      <td>Hamburg</td>\n",
       "      <td>Germany</td>\n",
       "      <td>1822445</td>\n",
       "      <td>755.0</td>\n",
       "      <td>0</td>\n",
       "    </tr>\n",
       "    <tr>\n",
       "      <th>17</th>\n",
       "      <td>London</td>\n",
       "      <td>England</td>\n",
       "      <td>8825000</td>\n",
       "      <td>607.0</td>\n",
       "      <td>0</td>\n",
       "    </tr>\n",
       "    <tr>\n",
       "      <th>20</th>\n",
       "      <td>Madrid</td>\n",
       "      <td>Spain</td>\n",
       "      <td>3141991</td>\n",
       "      <td>604.3</td>\n",
       "      <td>1368</td>\n",
       "    </tr>\n",
       "    <tr>\n",
       "      <th>7</th>\n",
       "      <td>Budapest</td>\n",
       "      <td>Hungary</td>\n",
       "      <td>1779361</td>\n",
       "      <td>525.2</td>\n",
       "      <td>433</td>\n",
       "    </tr>\n",
       "    <tr>\n",
       "      <th>30</th>\n",
       "      <td>Warsaw</td>\n",
       "      <td>Poland</td>\n",
       "      <td>1764615</td>\n",
       "      <td>517.0</td>\n",
       "      <td>0</td>\n",
       "    </tr>\n",
       "    <tr>\n",
       "      <th>24</th>\n",
       "      <td>Oslo</td>\n",
       "      <td>Norway</td>\n",
       "      <td>634293</td>\n",
       "      <td>454.0</td>\n",
       "      <td>0</td>\n",
       "    </tr>\n",
       "  </tbody>\n",
       "</table>\n",
       "</div>"
      ],
      "text/plain": [
       "              City     Country  Population  Area in km2   \\\n",
       "CityNo                                                     \n",
       "2           Athens      Greece      664046        2929.0   \n",
       "18      Luxembourg  Luxembourg      590667        2586.4   \n",
       "27            Rome       Italy     2868782        1285.0   \n",
       "4           Berlin     Germany     3711930         891.7   \n",
       "12         Hamburg     Germany     1822445         755.0   \n",
       "17          London     England     8825000         607.0   \n",
       "20          Madrid       Spain     3141991         604.3   \n",
       "7         Budapest     Hungary     1779361         525.2   \n",
       "30          Warsaw      Poland     1764615         517.0   \n",
       "24            Oslo      Norway      634293         454.0   \n",
       "\n",
       "        gluten_free_restaurants  \n",
       "CityNo                           \n",
       "2                           271  \n",
       "18                            0  \n",
       "27                         1654  \n",
       "4                             0  \n",
       "12                            0  \n",
       "17                            0  \n",
       "20                         1368  \n",
       "7                           433  \n",
       "30                            0  \n",
       "24                            0  "
      ]
     },
     "execution_count": 44,
     "metadata": {},
     "output_type": "execute_result"
    }
   ],
   "source": [
    "# displaying europe_capitals dataframe by sorting the by Area in descending order\n",
    "europe_capitals.sort_values(['Area in km2 ', 'gluten_free_restaurants'], ascending=[False, True]).head(10)"
   ]
  },
  {
   "cell_type": "markdown",
   "id": "6af97a81-ca80-4476-b660-fa7dd0a96b77",
   "metadata": {},
   "source": [
    "## Answer\n",
    "## Luxembourg, Berlin, Hamburg, London, Warsaw have no gluten free restaurants\n",
    "#### It shows that the following capitals have the largest area with no gluten free restaurant. So it is a good idea to open a gluten free restaurant in one of these cities"
   ]
  },
  {
   "cell_type": "code",
   "execution_count": null,
   "id": "efa4acb2-b831-41a8-b52d-49de3e9d637b",
   "metadata": {},
   "outputs": [],
   "source": []
  },
  {
   "cell_type": "markdown",
   "id": "47dcb301-3c0f-4910-83c6-af502077247b",
   "metadata": {},
   "source": [
    "### 2. Think and propose a couple of other ways this dataset could be used to help businesses."
   ]
  },
  {
   "cell_type": "markdown",
   "id": "f9efd867-f395-4777-aac4-cd8d3c340330",
   "metadata": {},
   "source": [
    "### Answer\n",
    "1. use latitude and longitude columns to see the distribution of restaurants in Europe\n",
    "2. find number of restaurants in each city and country\n",
    "3. find what kind of meals are mostly served in restaurants\n",
    "4. see price distribution and find the optimal price to keep \n",
    "5. see the most common opening hours of the restaurants"
   ]
  },
  {
   "cell_type": "code",
   "execution_count": null,
   "id": "822e7367-1971-413a-a1d9-f8b68a3b842b",
   "metadata": {},
   "outputs": [],
   "source": []
  }
 ],
 "metadata": {
  "kernelspec": {
   "display_name": "Python 3 (ipykernel)",
   "language": "python",
   "name": "python3"
  },
  "language_info": {
   "codemirror_mode": {
    "name": "ipython",
    "version": 3
   },
   "file_extension": ".py",
   "mimetype": "text/x-python",
   "name": "python",
   "nbconvert_exporter": "python",
   "pygments_lexer": "ipython3",
   "version": "3.9.12"
  }
 },
 "nbformat": 4,
 "nbformat_minor": 5
}
